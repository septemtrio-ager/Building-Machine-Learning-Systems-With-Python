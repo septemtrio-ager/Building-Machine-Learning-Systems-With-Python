{
 "cells": [
  {
   "cell_type": "markdown",
   "metadata": {},
   "source": [
    "## クラスタリング\n",
    "\n",
    "クラスタリング手法の多くはフラットクラスタリング（flat clustering）と階層的クラスタリング（hierachical clustering）に該当する。"
   ]
  },
  {
   "cell_type": "markdown",
   "metadata": {},
   "source": [
    "フラットクラスタリングは、クラスタ間の関係性は考慮せずに、データをクラスタに分類する。\n",
    "\n",
    "* すべてのデータがどこか一つのクラスタに属するように分割する\n",
    "* 他のクラスタのデータとは類似しないようにする\n",
    "* 前もってクラスタの数を決める必要がある\n",
    "\n",
    "階層的クラスタリングは、クラスタを階層構造に組み立てる。\n",
    "\n",
    "* クラスタの数を指定する必要はない\n",
    "* 類似性の高いデータをクラスタとしてグループ化するが、さらに似ているクラスタをまとめて親クラスタにする\n",
    "* 再帰的に処理することで、クラスタが1つになるまで繰り返す"
   ]
  },
  {
   "cell_type": "markdown",
   "metadata": {},
   "source": [
    "Scikitではクラスタリングのための手法をたくさん提供していて、それぞれの手法について利点や欠点などの概要を知ることができる。\n",
    "\n",
    "> http://scikit-learn.org/dev/modules/clustering.html"
   ]
  },
  {
   "cell_type": "markdown",
   "metadata": {},
   "source": [
    "### KMeans\n",
    "\n",
    "KMeansはフラットクラスタリングの中でも最も広く使われているアルゴリズムである。クラスタの数を示す*num_clusters*を指定して初期化を行う。指定した数の文だけ、中心点（セントロイド(centroid)）を持つ。\n",
    "\n",
    "1. *num_clusters*で指定した数のデータを任意に選び出し、その特徴ベクトルを中心とする。\n",
    "2. 選ばれなかったデータについて、最も近い中心点を持つクラスタを、そのデータのクラスタとする。\n",
    "3. 各クラスタについて、その中心点の位置データを更新する。\n",
    "4. 中心点の更新方法は、クラスタに所属するデータすべてを対象にして、それらの特徴ベクトルの平均を、そのクラスタの中心点とする。\n",
    "5. 中心点の移動距離が閾値を下回れば、クラスタリング処理が収束したと考える。"
   ]
  }
 ],
 "metadata": {
  "kernelspec": {
   "display_name": "Python 3",
   "language": "python",
   "name": "python3"
  },
  "language_info": {
   "codemirror_mode": {
    "name": "ipython",
    "version": 3
   },
   "file_extension": ".py",
   "mimetype": "text/x-python",
   "name": "python",
   "nbconvert_exporter": "python",
   "pygments_lexer": "ipython3",
   "version": "3.5.1"
  }
 },
 "nbformat": 4,
 "nbformat_minor": 0
}
