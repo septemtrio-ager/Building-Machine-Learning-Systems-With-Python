{
 "cells": [
  {
   "cell_type": "markdown",
   "metadata": {},
   "source": [
    "「実践機械学習システム」のサポートレポジトリの[ここから](https://raw.githubusercontent.com/luispedro/BuildingMachineLearningSystemsWithPython/master/ch03/data/toy/03.txt)とってきた03.txtは終端に改行が入ってしまっている。これを取り除くため、次のようなコードを実行して改行をとり除いた。"
   ]
  },
  {
   "cell_type": "markdown",
   "metadata": {
    "collapsed": false
   },
   "source": [
    "* script.py\n",
    "\n",
    "```python\n",
    "f = open(\"03.txt\")\n",
    "data = f.read()\n",
    "f.close()\n",
    "\n",
    "data = data.rstrip(\"\\n\")\n",
    "\n",
    "f = open(\"03.txt\", \"w\")\n",
    "f.write(data)\n",
    "f.close()\n",
    "```"
   ]
  },
  {
   "cell_type": "markdown",
   "metadata": {},
   "source": [
    "* 参考\n",
    "  * 03.txtのデータ  \n",
    "    https://github.com/luispedro/BuildingMachineLearningSystemsWithPython/tree/master/ch03\n",
    "\n",
    "  * Pythonでのテキストデータの読み込みについて  \n",
    "    http://openbook4.me/projects/147/sections/885\n",
    "\n",
    "  * Pythonでのテキストデータの書き込みについて  \n",
    "    http://www.yukun.info/blog/2008/09/python-file-write-writelines.html"
   ]
  }
 ],
 "metadata": {
  "kernelspec": {
   "display_name": "Python 3",
   "language": "python",
   "name": "python3"
  },
  "language_info": {
   "codemirror_mode": {
    "name": "ipython",
    "version": 3
   },
   "file_extension": ".py",
   "mimetype": "text/x-python",
   "name": "python",
   "nbconvert_exporter": "python",
   "pygments_lexer": "ipython3",
   "version": "3.5.1"
  }
 },
 "nbformat": 4,
 "nbformat_minor": 0
}
